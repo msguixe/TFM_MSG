{
 "cells": [
  {
   "cell_type": "markdown",
   "metadata": {},
   "source": [
    "# Relative mutation positions"
   ]
  },
  {
   "cell_type": "code",
   "execution_count": 1,
   "metadata": {},
   "outputs": [],
   "source": [
    "import pandas as pd\n",
    "from tqdm.notebook import trange, tqdm"
   ]
  },
  {
   "cell_type": "markdown",
   "metadata": {},
   "source": [
    "## 1. Prepare CPTAC table"
   ]
  },
  {
   "cell_type": "code",
   "execution_count": 2,
   "metadata": {},
   "outputs": [
    {
     "name": "stdout",
     "output_type": "stream",
     "text": [
      "Load CPTAC datasets\n"
     ]
    },
    {
     "data": {
      "application/vnd.jupyter.widget-view+json": {
       "model_id": "1eccb93d57e044c1898acca836bea5d0",
       "version_major": 2,
       "version_minor": 0
      },
      "text/plain": [
       "HBox(children=(FloatProgress(value=0.0, description='Load CPTAC data', max=7.0, style=ProgressStyle(descriptio…"
      ]
     },
     "metadata": {},
     "output_type": "display_data"
    },
    {
     "name": "stdout",
     "output_type": "stream",
     "text": [
      "\n",
      "Eliminate duplicated rna measures\n",
      "Load cdegron table and merge\n"
     ]
    }
   ],
   "source": [
    "####################\n",
    "#Load CPTAC dataset\n",
    "####################\n",
    "\n",
    "print('Load CPTAC datasets')\n",
    "\n",
    "CPTAC = ['BRCA', 'CCRCC', 'COAD', 'GBM', 'LUAD', 'OV', 'UCEC']\n",
    "cptac_df = pd.DataFrame(columns=['gene', 'cpct_aliquot', 'protein_expression', 'aliquot', 'sample',\n",
    "       'Type', 'median', 'stdev', 'norm_protein_expression', 'log2fpkm',\n",
    "       'log10fpkm', '#Uploaded_variation', 'Location', 'Allele', 'Feature',\n",
    "       'protein_mutation', 'Protein_position', 'Amino_acids', 'Consequence',\n",
    "       'Phenotype', 'Ubiquitinases_Mutated', 'Altered_E3_Ligases',\n",
    "       'Raw_Residual', 'Stability_Change', 'ABS_Stability_Change'])\n",
    "for cancer in tqdm(CPTAC, total=len(CPTAC),desc='Load CPTAC data'):\n",
    "    df = pd.read_csv(\"/workspace/projects/cptac_analysis/data/\"+cancer+\"/dataset_irls.gz\", sep='\\t')\n",
    "    Dataset = [cancer] * len(df)\n",
    "    df['Dataset'] = Dataset\n",
    "    frames = [cptac_df, df]\n",
    "    cptac_df = pd.concat(frames)\n",
    "cptac_df.drop_duplicates(keep='first',inplace=True) \n",
    "\n",
    "cptac_df['ID'] = cptac_df['gene'].astype(str)+cptac_df['Feature'].astype(str)+cptac_df['sample'].astype(str)+cptac_df['#Uploaded_variation'].astype(str)+cptac_df['Location'].astype(str)\n",
    "\n",
    "######################################################################################################\n",
    "#Calculate the mean of rna values for the repeated mutations (log2fpkm, log10fpkm, Stability_Change)\n",
    "######################################################################################################\n",
    "\n",
    "print('Eliminate duplicated rna measures')\n",
    "\n",
    "dupl_samples = ['C3L-00908', 'C3N-00545', 'C3N-01825']\n",
    "\n",
    "cptac_dupl_df = cptac_df[cptac_df['sample'].isin(dupl_samples)]\n",
    "df1 = cptac_dupl_df[cptac_dupl_df['Feature'].isnull()].groupby(['gene','sample'],as_index=False).mean()\n",
    "df2 = cptac_dupl_df[~cptac_dupl_df['Feature'].isnull()].groupby(['gene','Feature','#Uploaded_variation','Location'],as_index=False).mean()\n",
    "cptac_dupl2_df = pd.concat([df1,df2])\n",
    "cptac_dupl3_df = cptac_dupl_df.drop(['log2fpkm','log10fpkm','Raw_Residual','Stability_Change','ABS_Stability_Change'],axis=1)\n",
    "cptac_dupl4_df = pd.merge(cptac_dupl3_df,cptac_dupl2_df,how='left')\n",
    "cptac_dupl4_df.drop_duplicates(keep='first',inplace=True)\n",
    "cptac2_df = cptac_df[~(cptac_df['sample'].isin(dupl_samples))]\n",
    "cptac_df = pd.concat([cptac2_df,cptac_dupl4_df],ignore_index=True)\n",
    "\n",
    "###########################################################\n",
    "#Load cdegron table, merge and create cterm_degron column\n",
    "###########################################################\n",
    "\n",
    "print('Load cdegron table and merge')\n",
    "\n",
    "cdegron_df = pd.read_csv(r'cdegron_wtnsfs_cptac.tsv', sep = '\\t')\n",
    "cptac_df = pd.merge(cptac_df,cdegron_df,how='left')"
   ]
  },
  {
   "cell_type": "markdown",
   "metadata": {},
   "source": [
    "## 2. Prepare CCLE table"
   ]
  },
  {
   "cell_type": "code",
   "execution_count": 5,
   "metadata": {},
   "outputs": [
    {
     "name": "stdout",
     "output_type": "stream",
     "text": [
      "Load CCLE dataset\n",
      "Eliminate duplicated protein measures\n",
      "Load cdegron table and merge\n"
     ]
    }
   ],
   "source": [
    "###################\n",
    "#Load CCLE dataset\n",
    "####################\n",
    "\n",
    "print('Load CCLE dataset')\n",
    "ccle_df = pd.read_csv(\"/workspace/projects/cptac_analysis/data/CCLE/dataset_irls.gz\", sep='\\t')\n",
    "\n",
    "ccle_df['ID'] = ccle_df['gene'].astype(str)+ccle_df['Feature'].astype(str)+ccle_df['sample'].astype(str)+ccle_df['#Uploaded_variation'].astype(str)+ccle_df['Location'].astype(str)\n",
    "\n",
    "#############################################################################################################################\n",
    "#Calculate the mean of protein values for the repeated mutations (protein_expression, norm_protein_expression, Raw_Residual, Stability_Change, ABS_Stability_Change)\n",
    "#############################################################################################################################\n",
    "\n",
    "print('Eliminate duplicated protein measures')\n",
    "\n",
    "df1 = ccle_df[ccle_df['Feature'].isnull()].groupby(['gene','sample','Phenotype'],as_index=False).mean()\n",
    "df2 = ccle_df[~ccle_df['Feature'].isnull()].groupby(['gene','Feature','sample','#Uploaded_variation','Location','Phenotype'],as_index=False).mean()\n",
    "ccle2_df = pd.concat([df1,df2])\n",
    "ccle3_df = ccle_df.drop(['protein_expression', 'norm_protein_expression', 'Raw_Residual', 'Stability_Change', 'ABS_Stability_Change'],axis=1)\n",
    "ccle4_df = pd.merge(ccle3_df,ccle2_df,how='left')\n",
    "ccle_df = ccle4_df.drop_duplicates(keep='first')\n",
    "\n",
    "################################################################\n",
    "#Import cterm degrons table, merge and add cterm_degron column\n",
    "################################################################\n",
    "\n",
    "print('Load cdegron table and merge')\n",
    "\n",
    "cdegron_df = pd.read_csv(r'cdegron_wtnsfs_ccle.tsv', sep = '\\t')\n",
    "ccle_df = pd.merge(ccle_df,cdegron_df,how='left')"
   ]
  },
  {
   "cell_type": "markdown",
   "metadata": {},
   "source": [
    "## 3. Get relative mutation position"
   ]
  },
  {
   "cell_type": "code",
   "execution_count": 30,
   "metadata": {},
   "outputs": [
    {
     "data": {
      "application/vnd.jupyter.widget-view+json": {
       "model_id": "",
       "version_major": 2,
       "version_minor": 0
      },
      "text/plain": [
       "HBox(children=(FloatProgress(value=0.0, max=6421.0), HTML(value='')))"
      ]
     },
     "metadata": {},
     "output_type": "display_data"
    },
    {
     "name": "stderr",
     "output_type": "stream",
     "text": [
      "/home/msanchezg/miniconda3/envs/cptac/lib/python3.7/site-packages/ipykernel_launcher.py:30: SettingWithCopyWarning: \n",
      "A value is trying to be set on a copy of a slice from a DataFrame.\n",
      "Try using .loc[row_indexer,col_indexer] = value instead\n",
      "\n",
      "See the caveats in the documentation: https://pandas.pydata.org/pandas-docs/stable/user_guide/indexing.html#returning-a-view-versus-a-copy\n"
     ]
    },
    {
     "name": "stdout",
     "output_type": "stream",
     "text": [
      "\n"
     ]
    }
   ],
   "source": [
    "#Get relative mutation positions for CPTAC dataset (takes a lot of time, 1-5h)\n",
    "df = cptac_df\n",
    "phenotypes = ['stop_gained','frameshift_variant','missense_variant','synonymous_variant']\n",
    "genes_mut_df = df[['gene']][(~df['prot_seq'].isnull())&(df['Phenotype'].isin(phenotypes))]\n",
    "genes_mut_df = genes_mut_df.drop_duplicates(keep='first')\n",
    "genes_mut_list = genes_mut_df['gene'].to_list()\n",
    "\n",
    "#Prepare df all mutations\n",
    "cptac_prots_mut_df = pd.DataFrame()\n",
    "for prot in tqdm(genes_mut_list):\n",
    "    prot_df = df[['ID','Phenotype','prot_seq','Protein_position','Stability_Change','gene']][df['gene']==prot]\n",
    "    prot_df = prot_df.drop_duplicates(subset=['ID'])\n",
    "    prot_wt_df = prot_df[prot_df['Phenotype']=='WT']\n",
    "    prot_wt_list = prot_wt_df.values.tolist()\n",
    "\n",
    "    prot_mut_df = prot_df[prot_df['Phenotype'].isin(phenotypes)]\n",
    "    prot_mut_list = prot_mut_df.values.tolist()\n",
    "\n",
    "    #Distance to cterm from end of sequence\n",
    "\n",
    "    prot_length = len(prot_wt_list[0][2])\n",
    "\n",
    "    pos_list = prot_mut_df['Protein_position'].tolist()\n",
    "    pos1_list = []\n",
    "    for pos in pos_list:\n",
    "        pos1 = pos.split('-')[0]\n",
    "        pos1 = int(pos1)/prot_length\n",
    "        pos1_list.append(pos1)\n",
    "    pos1_list\n",
    "    prot_mut_df['Protein_position2'] = pos1_list\n",
    "\n",
    "    cptac_prots_mut_df = pd.concat([cptac_prots_mut_df,prot_mut_df], ignore_index=True)"
   ]
  },
  {
   "cell_type": "code",
   "execution_count": 34,
   "metadata": {},
   "outputs": [
    {
     "data": {
      "application/vnd.jupyter.widget-view+json": {
       "model_id": "",
       "version_major": 2,
       "version_minor": 0
      },
      "text/plain": [
       "HBox(children=(FloatProgress(value=0.0, max=5253.0), HTML(value='')))"
      ]
     },
     "metadata": {},
     "output_type": "display_data"
    },
    {
     "name": "stderr",
     "output_type": "stream",
     "text": [
      "/home/msanchezg/miniconda3/envs/cptac/lib/python3.7/site-packages/ipykernel_launcher.py:30: SettingWithCopyWarning: \n",
      "A value is trying to be set on a copy of a slice from a DataFrame.\n",
      "Try using .loc[row_indexer,col_indexer] = value instead\n",
      "\n",
      "See the caveats in the documentation: https://pandas.pydata.org/pandas-docs/stable/user_guide/indexing.html#returning-a-view-versus-a-copy\n"
     ]
    },
    {
     "name": "stdout",
     "output_type": "stream",
     "text": [
      "\n"
     ]
    }
   ],
   "source": [
    "#Get relative mutation positions for CCLE dataset (takes a lot of time, 1-5h)\n",
    "df = ccle_df\n",
    "phenotypes = ['stop_gained','frameshift_variant','missense_variant','synonymous_variant']\n",
    "genes_mut_df = df[['gene']][(~df['prot_seq'].isnull())&(df['Phenotype'].isin(phenotypes))]\n",
    "genes_mut_df = genes_mut_df.drop_duplicates(keep='first')\n",
    "genes_mut_list = genes_mut_df['gene'].to_list()\n",
    "\n",
    "#Prepare df all mutations\n",
    "ccle_prots_mut_df = pd.DataFrame()\n",
    "for prot in tqdm(genes_mut_list):\n",
    "    prot_df = df[['ID','Phenotype','prot_seq','Protein_position','Stability_Change','gene']][df['gene']==prot]\n",
    "    prot_df = prot_df.drop_duplicates(subset=['ID'])\n",
    "    prot_wt_df = prot_df[prot_df['Phenotype']=='WT']\n",
    "    prot_wt_list = prot_wt_df.values.tolist()\n",
    "\n",
    "    prot_mut_df = prot_df[prot_df['Phenotype'].isin(phenotypes)]\n",
    "    prot_mut_list = prot_mut_df.values.tolist()\n",
    "\n",
    "    #Distance to cterm from end of sequence\n",
    "\n",
    "    prot_length = len(prot_wt_list[0][2])\n",
    "\n",
    "    pos_list = prot_mut_df['Protein_position'].tolist()\n",
    "    pos1_list = []\n",
    "    for pos in pos_list:\n",
    "        pos1 = pos.split('-')[0]\n",
    "        pos1 = int(pos1)/prot_length\n",
    "        pos1_list.append(pos1)\n",
    "    pos1_list\n",
    "    prot_mut_df['Protein_position2'] = pos1_list\n",
    "\n",
    "    ccle_prots_mut_df = pd.concat([ccle_prots_mut_df,prot_mut_df], ignore_index=True)"
   ]
  },
  {
   "cell_type": "code",
   "execution_count": 35,
   "metadata": {},
   "outputs": [],
   "source": [
    "#Save tables with relative mutation positions\n",
    "cptac_prots_mut_df.to_csv(r'pos_rel_cptac.tsv', header = True, index = None, sep = '\\t')\n",
    "ccle_prots_mut_df.to_csv(r'pos_rel_ccle.tsv', header = True, index = None, sep = '\\t')"
   ]
  }
 ],
 "metadata": {
  "kernelspec": {
   "display_name": "Python [conda env:cptac]",
   "language": "python",
   "name": "conda-env-cptac-py"
  },
  "language_info": {
   "codemirror_mode": {
    "name": "ipython",
    "version": 3
   },
   "file_extension": ".py",
   "mimetype": "text/x-python",
   "name": "python",
   "nbconvert_exporter": "python",
   "pygments_lexer": "ipython3",
   "version": "3.7.7"
  }
 },
 "nbformat": 4,
 "nbformat_minor": 4
}
